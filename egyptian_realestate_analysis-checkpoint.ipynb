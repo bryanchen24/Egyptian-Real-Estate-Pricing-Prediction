{
 "cells": [
  {
   "cell_type": "code",
   "execution_count": 1,
   "id": "810f5b26-9e11-4ac5-b5ae-94d2e15bb872",
   "metadata": {},
   "outputs": [],
   "source": [
    "import os\n",
    "import pandas as pd\n",
    "import numpy as np\n"
   ]
  },
  {
   "cell_type": "code",
   "execution_count": 2,
   "id": "596542ee-af6d-4963-872c-2088dbae7727",
   "metadata": {},
   "outputs": [],
   "source": [
    "# pd.set_option('display.max_columns', None)\n",
    "df = pd.read_csv('egypt_real_estate_listings.csv')"
   ]
  },
  {
   "cell_type": "code",
   "execution_count": 3,
   "id": "2239bda4-4b81-4e8a-9c53-7fd04b19ab6f",
   "metadata": {},
   "outputs": [
    {
     "name": "stdout",
     "output_type": "stream",
     "text": [
      "                                                 url       price  \\\n",
      "0  https://www.propertyfinder.eg/en/plp/buy/chale...   8,000,000   \n",
      "1  https://www.propertyfinder.eg/en/plp/buy/villa...  25,000,000   \n",
      "2  https://www.propertyfinder.eg/en/plp/buy/chale...  15,135,000   \n",
      "3  https://www.propertyfinder.eg/en/plp/buy/apart...  12,652,000   \n",
      "4  https://www.propertyfinder.eg/en/plp/buy/villa...  45,250,000   \n",
      "\n",
      "                                         description  \\\n",
      "0  OWN A CHALET IN EL GOUNA WITH A PRIME LOCATION...   \n",
      "1  For sale, a villa with immediate delivery in C...   \n",
      "2  With a down payment of EGP 1,513,000, a fully ...   \n",
      "3  Own an apartment in New Cairo with a minimal d...   \n",
      "4  Project: Granville\\nLocation: Fifth Settlement...   \n",
      "\n",
      "                                            location       type  \\\n",
      "0       Swan Lake Gouna, Al Gouna, Hurghada, Red Sea     Chalet   \n",
      "1   Karmell, New Zayed City, Sheikh Zayed City, Giza      Villa   \n",
      "2              Azha North, Ras Al Hekma, North Coast     Chalet   \n",
      "3  Taj City, 5th Settlement Compounds, The 5th Se...  Apartment   \n",
      "4                 Granville, New Capital City, Cairo      Villa   \n",
      "\n",
      "                   size bedrooms bathrooms available_from payment_method  \\\n",
      "0     732 sqft / 68 sqm  1+ Maid         1    31 Aug 2025           Cash   \n",
      "1  2,368 sqft / 220 sqm        4         4     2 Sep 2025           Cash   \n",
      "2  1,270 sqft / 118 sqm        2         2    19 Aug 2025           Cash   \n",
      "3  1,787 sqft / 166 sqm        3         2    26 Aug 2025   Installments   \n",
      "4  4,306 sqft / 400 sqm        7         7     2 Sep 2025           Cash   \n",
      "\n",
      "    down_payment  \n",
      "0  1,200,000 EGP  \n",
      "1  2,100,000 EGP  \n",
      "2  1,513,000 EGP  \n",
      "3  1,260,000 EGP  \n",
      "4  2,262,500 EGP  \n"
     ]
    }
   ],
   "source": [
    "print(df.head())"
   ]
  },
  {
   "cell_type": "markdown",
   "id": "81b5b8e8",
   "metadata": {},
   "source": [
    "### Calculate % of Data Missing"
   ]
  },
  {
   "cell_type": "code",
   "execution_count": 4,
   "id": "00e3e3eb-0ee5-496e-95b8-3eaf6f4f4e00",
   "metadata": {},
   "outputs": [
    {
     "name": "stdout",
     "output_type": "stream",
     "text": [
      "url: 0.00%\n",
      "price: 2.71%\n",
      "description: 0.39%\n",
      "location: 0.46%\n",
      "type: 0.39%\n",
      "size: 0.39%\n",
      "bedrooms: 0.72%\n",
      "bathrooms: 0.70%\n",
      "available_from: 3.33%\n",
      "payment_method: 2.72%\n",
      "down_payment: 72.67%\n"
     ]
    }
   ],
   "source": [
    "columns = df.columns.to_list()\n",
    "\n",
    "missing_percentage = []\n",
    "for col in columns:\n",
    "    missing_percentage.append(1 - (df[col].count()/len(df)))\n",
    "\n",
    "for percent, col in enumerate(columns):\n",
    "    print(f'{col}: {missing_percentage[percent]:.2%}')"
   ]
  },
  {
   "cell_type": "markdown",
   "id": "161d3124",
   "metadata": {},
   "source": [
    "### Get the types of properties"
   ]
  },
  {
   "cell_type": "code",
   "execution_count": 5,
   "id": "46e6b9e4-68e0-46fb-8f8d-90449eb14298",
   "metadata": {},
   "outputs": [
    {
     "name": "stdout",
     "output_type": "stream",
     "text": [
      "['Chalet' 'Villa' 'Apartment' 'Penthouse' 'Twin House' 'Duplex' 'iVilla'\n",
      " 'Townhouse' 'Hotel Apartment' 'Cabin' 'Bulk Sale Unit' 'Palace' 'Land'\n",
      " 'Whole Building' 'Full Floor' 'Roof' nan 'Bungalow']\n"
     ]
    }
   ],
   "source": [
    "types = df['type'].unique()\n",
    "print(types)"
   ]
  },
  {
   "cell_type": "code",
   "execution_count": 6,
   "id": "abf60c5b-8d36-4a41-b848-67c95450bfe8",
   "metadata": {},
   "outputs": [
    {
     "name": "stdout",
     "output_type": "stream",
     "text": [
      "url               19924\n",
      "price             19385\n",
      "description       19846\n",
      "location          19833\n",
      "type              19847\n",
      "size              19847\n",
      "bedrooms          19780\n",
      "bathrooms         19784\n",
      "available_from    19261\n",
      "payment_method    19383\n",
      "down_payment       5445\n",
      "dtype: int64\n"
     ]
    }
   ],
   "source": [
    "print(df.count())"
   ]
  },
  {
   "cell_type": "code",
   "execution_count": 7,
   "id": "93109128",
   "metadata": {},
   "outputs": [
    {
     "name": "stdout",
     "output_type": "stream",
     "text": [
      "<class 'pandas.core.frame.DataFrame'>\n",
      "RangeIndex: 19924 entries, 0 to 19923\n",
      "Data columns (total 6 columns):\n",
      " #   Column     Non-Null Count  Dtype \n",
      "---  ------     --------------  ----- \n",
      " 0   price      19385 non-null  object\n",
      " 1   location   19833 non-null  object\n",
      " 2   type       19847 non-null  object\n",
      " 3   size       19847 non-null  object\n",
      " 4   bedrooms   19780 non-null  object\n",
      " 5   bathrooms  19784 non-null  object\n",
      "dtypes: object(6)\n",
      "memory usage: 934.1+ KB\n",
      "None\n"
     ]
    }
   ],
   "source": [
    "# Create dataframe with only desired features and target varaible\n",
    "features = ['price', 'location', 'type', 'size', 'bedrooms', 'bathrooms']\n",
    "\n",
    "df_model = df[features]\n",
    "print(df_model.info())"
   ]
  },
  {
   "cell_type": "code",
   "execution_count": 8,
   "id": "8b481813",
   "metadata": {},
   "outputs": [],
   "source": [
    "# Remove entries without a price\n",
    "df_model = df_model.dropna(subset=['price'], axis=0)"
   ]
  },
  {
   "cell_type": "code",
   "execution_count": 9,
   "id": "217cf12f",
   "metadata": {},
   "outputs": [
    {
     "name": "stdout",
     "output_type": "stream",
     "text": [
      "price        19385\n",
      "location     19385\n",
      "type         19385\n",
      "size         19385\n",
      "bedrooms     19322\n",
      "bathrooms    19326\n",
      "dtype: int64\n"
     ]
    }
   ],
   "source": [
    "print(df_model.count())"
   ]
  },
  {
   "cell_type": "markdown",
   "id": "07ffee88",
   "metadata": {},
   "source": [
    "### Remove entries without bedrooms or bathrooms values"
   ]
  },
  {
   "cell_type": "code",
   "execution_count": 10,
   "id": "2ab0f775",
   "metadata": {},
   "outputs": [],
   "source": [
    "df_model = df_model.dropna(subset=['bedrooms', 'bathrooms'], axis=0)"
   ]
  },
  {
   "cell_type": "code",
   "execution_count": 11,
   "id": "c388b291",
   "metadata": {},
   "outputs": [
    {
     "name": "stdout",
     "output_type": "stream",
     "text": [
      "price        19322\n",
      "location     19322\n",
      "type         19322\n",
      "size         19322\n",
      "bedrooms     19322\n",
      "bathrooms    19322\n",
      "dtype: int64\n"
     ]
    }
   ],
   "source": [
    "print(df_model.count())"
   ]
  },
  {
   "cell_type": "markdown",
   "id": "afd4311c",
   "metadata": {},
   "source": [
    "### Boxplots to test for outliers (numeric features and price)"
   ]
  },
  {
   "cell_type": "code",
   "execution_count": 12,
   "id": "a48c21fb",
   "metadata": {},
   "outputs": [],
   "source": [
    "import seaborn as sns\n",
    "import matplotlib.pyplot as plt"
   ]
  },
  {
   "cell_type": "markdown",
   "id": "a5a2fa83",
   "metadata": {},
   "source": [
    "#### Create new column converting EGP to USD"
   ]
  },
  {
   "cell_type": "code",
   "execution_count": 13,
   "id": "5e346831",
   "metadata": {},
   "outputs": [
    {
     "name": "stdout",
     "output_type": "stream",
     "text": [
      "        price                                           location       type  \\\n",
      "0   8000000.0       Swan Lake Gouna, Al Gouna, Hurghada, Red Sea     Chalet   \n",
      "1  25000000.0   Karmell, New Zayed City, Sheikh Zayed City, Giza      Villa   \n",
      "2  15135000.0              Azha North, Ras Al Hekma, North Coast     Chalet   \n",
      "3  12652000.0  Taj City, 5th Settlement Compounds, The 5th Se...  Apartment   \n",
      "4  45250000.0                 Granville, New Capital City, Cairo      Villa   \n",
      "\n",
      "                   size bedrooms bathrooms  \n",
      "0     732 sqft / 68 sqm  1+ Maid         1  \n",
      "1  2,368 sqft / 220 sqm        4         4  \n",
      "2  1,270 sqft / 118 sqm        2         2  \n",
      "3  1,787 sqft / 166 sqm        3         2  \n",
      "4  4,306 sqft / 400 sqm        7         7  \n"
     ]
    }
   ],
   "source": [
    "# Removing commas from 'price'\n",
    "df_model['price'] = df_model['price'].str.replace(',', '').astype(float)\n",
    "print(df_model.head())"
   ]
  },
  {
   "cell_type": "code",
   "execution_count": 14,
   "id": "cd681901",
   "metadata": {},
   "outputs": [
    {
     "name": "stdout",
     "output_type": "stream",
     "text": [
      "        price                                           location       type  \\\n",
      "0  8000000.00       Swan Lake Gouna, Al Gouna, Hurghada, Red Sea     Chalet   \n",
      "1 25000000.00   Karmell, New Zayed City, Sheikh Zayed City, Giza      Villa   \n",
      "2 15135000.00              Azha North, Ras Al Hekma, North Coast     Chalet   \n",
      "3 12652000.00  Taj City, 5th Settlement Compounds, The 5th Se...  Apartment   \n",
      "4 45250000.00                 Granville, New Capital City, Cairo      Villa   \n",
      "\n",
      "                   size bedrooms bathrooms  price_usd  \n",
      "0     732 sqft / 68 sqm  1+ Maid         1 1681376.00  \n",
      "1  2,368 sqft / 220 sqm        4         4 5254300.00  \n",
      "2  1,270 sqft / 118 sqm        2         2 3180953.22  \n",
      "3  1,787 sqft / 166 sqm        3         2 2659096.14  \n",
      "4  4,306 sqft / 400 sqm        7         7 9510283.00  \n"
     ]
    }
   ],
   "source": [
    "# Renaming 'price' to 'price_egp'\n",
    "# Adding 'price_usd'\n",
    "pd.set_option('display.float_format', '{:.2f}'.format)\n",
    "df_model['price_usd'] = df_model['price'] * 0.210172\n",
    "print(df_model.head())"
   ]
  },
  {
   "cell_type": "markdown",
   "id": "916325c7",
   "metadata": {},
   "source": [
    "#### Plotting numeric features"
   ]
  },
  {
   "cell_type": "code",
   "execution_count": 15,
   "id": "16e7645d",
   "metadata": {},
   "outputs": [
    {
     "name": "stdout",
     "output_type": "stream",
     "text": [
      "Uniqe bathrooms col:  ['1' '4' '2' '7' '5' '3' '6' '7+' 'none' '4.0' '2.0' '7.0' '3.0' '1.0'\n",
      " '5.0' '6.0']\n"
     ]
    }
   ],
   "source": [
    "# Ensuring numeric columns are numeric\n",
    "print('Uniqe bathrooms col: ', df_model['bathrooms'].unique())\n",
    "df_model['bathrooms'] = df_model['bathrooms'].replace('7+', 7)"
   ]
  },
  {
   "cell_type": "code",
   "execution_count": 16,
   "id": "622098a5",
   "metadata": {},
   "outputs": [
    {
     "name": "stdout",
     "output_type": "stream",
     "text": [
      "Uniqe bathrooms col:  ['1' '4' '2' '7' '5' '3' '6' 7 'none' '4.0' '2.0' '7.0' '3.0' '1.0' '5.0'\n",
      " '6.0']\n"
     ]
    }
   ],
   "source": [
    "print('Uniqe bathrooms col: ', df_model['bathrooms'].unique())"
   ]
  },
  {
   "cell_type": "code",
   "execution_count": 17,
   "id": "4acd61ef",
   "metadata": {},
   "outputs": [
    {
     "name": "stdout",
     "output_type": "stream",
     "text": [
      "<class 'str'>\n"
     ]
    }
   ],
   "source": [
    "print(type(df_model['bathrooms'].unique()[-1]))"
   ]
  },
  {
   "cell_type": "code",
   "execution_count": 18,
   "id": "e6b9cfb0",
   "metadata": {},
   "outputs": [
    {
     "name": "stdout",
     "output_type": "stream",
     "text": [
      "Uniqe bathrooms col:  [1 4 2 7 5 3 6]\n"
     ]
    }
   ],
   "source": [
    "df_model = df_model[df_model['bathrooms'] != 'none']\n",
    "df_model['bathrooms'] = df_model['bathrooms'].astype(float)\n",
    "df_model['bathrooms'] = df_model['bathrooms'].astype(int)\n",
    "print('Uniqe bathrooms col: ', df_model['bathrooms'].unique())"
   ]
  },
  {
   "cell_type": "code",
   "execution_count": 19,
   "id": "aa8eb9ce",
   "metadata": {},
   "outputs": [
    {
     "name": "stdout",
     "output_type": "stream",
     "text": [
      "Uniqe bedrooms col:  ['1+ Maid' '4' '2' '3' '7' '5+ Maid' '3+ Maid' '2+ Maid' '1' '4+ Maid'\n",
      " '7+ Maid' 'studio' '5' '6+ Maid' 'studio+ Maid' '7++ Maid' '7+' '6']\n"
     ]
    }
   ],
   "source": [
    "print('Uniqe bedrooms col: ', df_model['bedrooms'].unique())"
   ]
  },
  {
   "cell_type": "code",
   "execution_count": 20,
   "id": "086dfa33",
   "metadata": {},
   "outputs": [],
   "source": [
    "# Create binary column whether or not house has a maid room \n",
    "# (0: no maid room, 1: has maid room)\n",
    "df_model['maid_room'] = df_model['bedrooms'].str.contains('Maid', case=False, na=False)"
   ]
  },
  {
   "cell_type": "code",
   "execution_count": 21,
   "id": "26f7b40e",
   "metadata": {},
   "outputs": [
    {
     "name": "stdout",
     "output_type": "stream",
     "text": [
      "        price                                           location       type  \\\n",
      "0  8000000.00       Swan Lake Gouna, Al Gouna, Hurghada, Red Sea     Chalet   \n",
      "1 25000000.00   Karmell, New Zayed City, Sheikh Zayed City, Giza      Villa   \n",
      "2 15135000.00              Azha North, Ras Al Hekma, North Coast     Chalet   \n",
      "3 12652000.00  Taj City, 5th Settlement Compounds, The 5th Se...  Apartment   \n",
      "4 45250000.00                 Granville, New Capital City, Cairo      Villa   \n",
      "\n",
      "                   size bedrooms  bathrooms  price_usd  maid_room  \n",
      "0     732 sqft / 68 sqm  1+ Maid          1 1681376.00       True  \n",
      "1  2,368 sqft / 220 sqm        4          4 5254300.00      False  \n",
      "2  1,270 sqft / 118 sqm        2          2 3180953.22      False  \n",
      "3  1,787 sqft / 166 sqm        3          2 2659096.14      False  \n",
      "4  4,306 sqft / 400 sqm        7          7 9510283.00      False  \n"
     ]
    }
   ],
   "source": [
    "print(df_model.head())"
   ]
  },
  {
   "cell_type": "code",
   "execution_count": 22,
   "id": "fae89a0d",
   "metadata": {},
   "outputs": [
    {
     "name": "stdout",
     "output_type": "stream",
     "text": [
      "Uniqe bedrooms col:  ['1+ Maid' '4' '2' '3' '7' '5+ Maid' '3+ Maid' '2+ Maid' '1' '4+ Maid'\n",
      " '7+ Maid' '0' '5' '6+ Maid' '0+ Maid' '7++ Maid' '7+' '6']\n"
     ]
    }
   ],
   "source": [
    "df_model['bedrooms'] = df_model['bedrooms'].replace({'studio': '0', 'studio+ Maid': '0+ Maid'})\n",
    "print('Uniqe bedrooms col: ', df_model['bedrooms'].unique())"
   ]
  },
  {
   "cell_type": "code",
   "execution_count": 23,
   "id": "b4505e2b",
   "metadata": {},
   "outputs": [
    {
     "name": "stdout",
     "output_type": "stream",
     "text": [
      "Uniqe bedrooms col:  ['1' '4' '2' '3' '7' '5' '0' '6']\n"
     ]
    }
   ],
   "source": [
    "df_model['bedrooms'] = df_model['bedrooms'].str.split('+').str[0]\n",
    "print('Uniqe bedrooms col: ', df_model['bedrooms'].unique())"
   ]
  },
  {
   "cell_type": "code",
   "execution_count": 24,
   "id": "7b9879b1",
   "metadata": {},
   "outputs": [
    {
     "name": "stdout",
     "output_type": "stream",
     "text": [
      "        price                                           location       type  \\\n",
      "0  8000000.00       Swan Lake Gouna, Al Gouna, Hurghada, Red Sea     Chalet   \n",
      "1 25000000.00   Karmell, New Zayed City, Sheikh Zayed City, Giza      Villa   \n",
      "2 15135000.00              Azha North, Ras Al Hekma, North Coast     Chalet   \n",
      "3 12652000.00  Taj City, 5th Settlement Compounds, The 5th Se...  Apartment   \n",
      "4 45250000.00                 Granville, New Capital City, Cairo      Villa   \n",
      "\n",
      "                   size bedrooms  bathrooms  price_usd  maid_room  \n",
      "0     732 sqft / 68 sqm        1          1 1681376.00       True  \n",
      "1  2,368 sqft / 220 sqm        4          4 5254300.00      False  \n",
      "2  1,270 sqft / 118 sqm        2          2 3180953.22      False  \n",
      "3  1,787 sqft / 166 sqm        3          2 2659096.14      False  \n",
      "4  4,306 sqft / 400 sqm        7          7 9510283.00      False  \n"
     ]
    }
   ],
   "source": [
    "# remove any nonsense rows in 'size'\n",
    "df_model = df_model[df_model['size'].str.contains('sqft')]\n",
    "print(df_model.head())"
   ]
  },
  {
   "cell_type": "code",
   "execution_count": 25,
   "id": "ad2b4916",
   "metadata": {},
   "outputs": [],
   "source": [
    "\n",
    "df_model['size'] = df_model['size'].str.split('sqft').str[0]\n",
    "\n",
    "\n",
    "df_model['size'] = df_model['size'].str.replace(',', '')\n",
    "df_model['size'] = df_model['size'].astype(int)"
   ]
  },
  {
   "cell_type": "code",
   "execution_count": 26,
   "id": "ac8fdfe1",
   "metadata": {},
   "outputs": [
    {
     "name": "stdout",
     "output_type": "stream",
     "text": [
      "             price                                           location  \\\n",
      "4410   11692311.00  Sarai, Mostakbal City Compounds, Mostakbal Cit...   \n",
      "15510   6550000.00           Mountain View, Ras Al Hekma, North Coast   \n",
      "8174    3500000.00  Sidi Gaber St., Sidi Gaber, Hay Sharq, Alexandria   \n",
      "12670 650000000.00  Katameya Heights, El Katameya Compounds, El Ka...   \n",
      "17140  50000000.00  Al Mariouteya Rd, Monshaat Al Bakari, Faisal, ...   \n",
      "\n",
      "                 type       size bedrooms  bathrooms    price_usd  maid_room  \n",
      "4410        Apartment  170195636        3          3   2457396.39      False  \n",
      "15510          Chalet    1034476        2          2   1376626.60      False  \n",
      "8174        Apartment      72969        2          1    735602.00      False  \n",
      "12670           Villa      40903        7          7 136611800.00      False  \n",
      "17140  Whole Building      32292        7          7  10508600.00      False  \n"
     ]
    }
   ],
   "source": [
    "print(df_model.sort_values(by='size', ascending=False).head())"
   ]
  },
  {
   "cell_type": "code",
   "execution_count": 27,
   "id": "0693d847",
   "metadata": {},
   "outputs": [
    {
     "name": "stdout",
     "output_type": "stream",
     "text": [
      "             price                                           location  \\\n",
      "12670 650000000.00  Katameya Heights, El Katameya Compounds, El Ka...   \n",
      "18482 100000000.00  West Golf, El Katameya Compounds, El Katameya,...   \n",
      "17140  50000000.00  Al Mariouteya Rd, Monshaat Al Bakari, Faisal, ...   \n",
      "9871  375000000.00  Katameya Dunes, El Katameya Compounds, El Kata...   \n",
      "18096 300000000.00  Concord Plaza, South Investors Area, New Cairo...   \n",
      "\n",
      "                 type   size bedrooms  bathrooms    price_usd  maid_room  \n",
      "12670           Villa  40903        7          7 136611800.00      False  \n",
      "18482           Villa  32292        7          7  21017200.00       True  \n",
      "17140  Whole Building  32292        7          7  10508600.00      False  \n",
      "9871            Villa  30150        7          7  78814500.00       True  \n",
      "18096          Palace  26372        7          7  63051600.00       True  \n"
     ]
    }
   ],
   "source": [
    "# # outlier = df[df['size'].values > 10000].index\n",
    "df_model.drop([4410, 15510, 8174], inplace=True)\n",
    "print(df_model.sort_values(by='size', ascending=False).head())"
   ]
  },
  {
   "cell_type": "code",
   "execution_count": 28,
   "id": "b927fcbb",
   "metadata": {},
   "outputs": [
    {
     "name": "stdout",
     "output_type": "stream",
     "text": [
      "            price                                           location  \\\n",
      "14334  1081500.00                            Al Alamein, North Coast   \n",
      "2693  39000000.00                                    Madinaty, Cairo   \n",
      "14774  5000000.00                    Ivoire, Sheikh Zayed City, Giza   \n",
      "9824   1500000.00              Zahra, Sidi Abdel Rahman, North Coast   \n",
      "4803   2755000.00  Valencia Valley, Al Andalus District, New Cair...   \n",
      "\n",
      "            type  size bedrooms  bathrooms  price_usd  maid_room  \n",
      "14334     Chalet    11        0          1  227301.02      False  \n",
      "2693       Villa    22        5          4 8196708.00       True  \n",
      "14774      Villa   215        5          5 1050860.00       True  \n",
      "9824      Chalet   291        0          1  315258.00      False  \n",
      "4803   Apartment   312        0          1  579023.86      False  \n"
     ]
    }
   ],
   "source": [
    "print(df_model.sort_values(by='size', ascending=True).head())\n",
    "df_model.drop([14334, 2693, 14774], inplace=True)"
   ]
  },
  {
   "cell_type": "code",
   "execution_count": 29,
   "id": "8ebc231a",
   "metadata": {},
   "outputs": [
    {
     "name": "stdout",
     "output_type": "stream",
     "text": [
      "           price                                           location  \\\n",
      "9824  1500000.00              Zahra, Sidi Abdel Rahman, North Coast   \n",
      "4803  2755000.00  Valencia Valley, Al Andalus District, New Cair...   \n",
      "527   2075000.00         Golf Porto Marina, Al Alamein, North Coast   \n",
      "15400 1081000.00         Golf Porto Marina, Al Alamein, North Coast   \n",
      "13703 1189650.00         Golf Porto Marina, Al Alamein, North Coast   \n",
      "\n",
      "            type  size bedrooms  bathrooms  price_usd  maid_room  \n",
      "9824      Chalet   291        0          1  315258.00      False  \n",
      "4803   Apartment   312        0          1  579023.86      False  \n",
      "527       Chalet   323        0          1  436106.90      False  \n",
      "15400     Chalet   323        0          1  227195.93      False  \n",
      "13703     Chalet   323        0          1  250031.12      False  \n"
     ]
    }
   ],
   "source": [
    "print(df_model.sort_values(by='size', ascending=True).head())"
   ]
  },
  {
   "cell_type": "code",
   "execution_count": 32,
   "id": "50407472",
   "metadata": {},
   "outputs": [
    {
     "name": "stdout",
     "output_type": "stream",
     "text": [
      "             price     size  bathrooms    price_usd\n",
      "count     19311.00 19311.00   19311.00     19311.00\n",
      "mean   16422239.90  2257.25       2.93   3451495.00\n",
      "std    23608558.13  1778.72       1.28   4961857.88\n",
      "min      186900.00   291.00       1.00     39281.15\n",
      "25%     6000000.00  1356.00       2.00   1261032.00\n",
      "50%    10400000.00  1830.00       3.00   2185788.80\n",
      "75%    18200000.00  2551.00       4.00   3825130.40\n",
      "max   840000000.00 40903.00       7.00 176544480.00\n"
     ]
    }
   ],
   "source": [
    "print(df_model.describe())"
   ]
  },
  {
   "cell_type": "code",
   "execution_count": 33,
   "id": "e06a32a4",
   "metadata": {},
   "outputs": [],
   "source": [
    "outlier = df_model[df_model['price'] == 840000000].index\n",
    "df_model.drop(index=outlier, inplace=True)"
   ]
  },
  {
   "cell_type": "code",
   "execution_count": 34,
   "id": "850d7f11",
   "metadata": {},
   "outputs": [
    {
     "name": "stdout",
     "output_type": "stream",
     "text": [
      "             price     size  bathrooms    price_usd\n",
      "count     19310.00 19310.00   19310.00     19310.00\n",
      "mean   16379589.57  2256.75       2.93   3442531.10\n",
      "std    22853082.63  1777.43       1.28   4803078.08\n",
      "min      186900.00   291.00       1.00     39281.15\n",
      "25%     6000000.00  1356.00       2.00   1261032.00\n",
      "50%    10400000.00  1830.00       3.00   2185788.80\n",
      "75%    18200000.00  2551.00       4.00   3825130.40\n",
      "max   650000000.00 40903.00       7.00 136611800.00\n"
     ]
    }
   ],
   "source": [
    "print(df_model.describe())"
   ]
  },
  {
   "cell_type": "code",
   "execution_count": 35,
   "id": "c3173fef",
   "metadata": {},
   "outputs": [],
   "source": [
    "outlier = df_model[df_model['price'] == 650000000].index\n",
    "df_model.drop(index=outlier, inplace=True)"
   ]
  },
  {
   "cell_type": "code",
   "execution_count": 36,
   "id": "a8a739f7",
   "metadata": {},
   "outputs": [
    {
     "name": "stdout",
     "output_type": "stream",
     "text": [
      "             price     size  bathrooms   price_usd\n",
      "count     19309.00 19309.00   19309.00    19309.00\n",
      "mean   16346774.80  2254.75       2.93  3435634.35\n",
      "std    22394110.22  1755.58       1.28  4706614.93\n",
      "min      186900.00   291.00       1.00    39281.15\n",
      "25%     6000000.00  1356.00       2.00  1261032.00\n",
      "50%    10400000.00  1830.00       3.00  2185788.80\n",
      "75%    18200000.00  2551.00       4.00  3825130.40\n",
      "max   453000000.00 32292.00       7.00 95207916.00\n"
     ]
    }
   ],
   "source": [
    "print(df_model.describe())"
   ]
  },
  {
   "cell_type": "code",
   "execution_count": 38,
   "id": "d271915a",
   "metadata": {},
   "outputs": [
    {
     "name": "stdout",
     "output_type": "stream",
     "text": [
      "             price     size  bathrooms   price_usd\n",
      "count     18383.00 18383.00   18383.00    18383.00\n",
      "mean   13662502.85  1965.95       2.80  2871475.55\n",
      "std    13241194.51   899.94       1.14  2782928.33\n",
      "min      186900.00   291.00       1.00    39281.15\n",
      "25%     5900000.00  1345.00       2.00  1240014.80\n",
      "50%    10000000.00  1776.00       3.00  2101720.00\n",
      "75%    17000000.00  2422.00       3.00  3572924.00\n",
      "max   280000000.00  4994.00       7.00 58848160.00\n"
     ]
    }
   ],
   "source": [
    "df_model = df_model[df_model['size'] <= 5000]\n",
    "print(df_model.describe())"
   ]
  },
  {
   "cell_type": "code",
   "execution_count": 37,
   "id": "53292900",
   "metadata": {},
   "outputs": [
    {
     "data": {
      "image/png": "[encoded data removed]",
      "text/plain": [
       "<Figure size 1200x500 with 4 Axes>"
      ]
     },
     "metadata": {},
     "output_type": "display_data"
    }
   ],
   "source": [
    "col_to_plot = ['price', 'size', 'bathrooms', 'price_usd']\n",
    "\n",
    "fig, axes = plt.subplots(ncols=len(col_to_plot), figsize=(12, 5))\n",
    "\n",
    "for i, column in enumerate(col_to_plot):\n",
    "    sns.boxplot(y=df_model[column], ax=axes[i])\n",
    "    axes[i].set_title(column)\n",
    "    axes[i].set_ylabel('') \n",
    "\n",
    "plt.tight_layout() \n",
    "plt.show()"
   ]
  },
  {
   "cell_type": "code",
   "execution_count": null,
   "id": "ccf23288",
   "metadata": {},
   "outputs": [],
   "source": []
  },
  {
   "cell_type": "code",
   "execution_count": null,
   "id": "fd4546cc",
   "metadata": {},
   "outputs": [],
   "source": []
  },
  {
   "cell_type": "code",
   "execution_count": null,
   "id": "0cfe0784",
   "metadata": {},
   "outputs": [],
   "source": []
  }
 ],
 "metadata": {
  "kernelspec": {
   "display_name": "Python 3",
   "language": "python",
   "name": "python3"
  },
  "language_info": {
   "codemirror_mode": {
    "name": "ipython",
    "version": 3
   },
   "file_extension": ".py",
   "mimetype": "text/x-python",
   "name": "python",
   "nbconvert_exporter": "python",
   "pygments_lexer": "ipython3",
   "version": "3.13.5"
  }
 },
 "nbformat": 4,
 "nbformat_minor": 5
}
