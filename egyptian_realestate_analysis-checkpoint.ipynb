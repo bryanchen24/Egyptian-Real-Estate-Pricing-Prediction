{
 "cells": [
  {
   "cell_type": "code",
   "execution_count": 2,
   "id": "810f5b26-9e11-4ac5-b5ae-94d2e15bb872",
   "metadata": {},
   "outputs": [],
   "source": [
    "import os\n",
    "import pandas as pd\n",
    "import numpy as np\n"
   ]
  },
  {
   "cell_type": "code",
   "execution_count": 32,
   "id": "596542ee-af6d-4963-872c-2088dbae7727",
   "metadata": {},
   "outputs": [],
   "source": [
    "# pd.set_option('display.max_columns', None)\n",
    "df = pd.read_csv('egypt_real_estate_listings.csv')"
   ]
  },
  {
   "cell_type": "code",
   "execution_count": 33,
   "id": "2239bda4-4b81-4e8a-9c53-7fd04b19ab6f",
   "metadata": {},
   "outputs": [
    {
     "name": "stdout",
     "output_type": "stream",
     "text": [
      "                                                 url       price  \\\n",
      "0  https://www.propertyfinder.eg/en/plp/buy/chale...   8,000,000   \n",
      "1  https://www.propertyfinder.eg/en/plp/buy/villa...  25,000,000   \n",
      "2  https://www.propertyfinder.eg/en/plp/buy/chale...  15,135,000   \n",
      "3  https://www.propertyfinder.eg/en/plp/buy/apart...  12,652,000   \n",
      "4  https://www.propertyfinder.eg/en/plp/buy/villa...  45,250,000   \n",
      "\n",
      "                                         description  \\\n",
      "0  OWN A CHALET IN EL GOUNA WITH A PRIME LOCATION...   \n",
      "1  For sale, a villa with immediate delivery in C...   \n",
      "2  With a down payment of EGP 1,513,000, a fully ...   \n",
      "3  Own an apartment in New Cairo with a minimal d...   \n",
      "4  Project: Granville\\nLocation: Fifth Settlement...   \n",
      "\n",
      "                                            location       type  \\\n",
      "0       Swan Lake Gouna, Al Gouna, Hurghada, Red Sea     Chalet   \n",
      "1   Karmell, New Zayed City, Sheikh Zayed City, Giza      Villa   \n",
      "2              Azha North, Ras Al Hekma, North Coast     Chalet   \n",
      "3  Taj City, 5th Settlement Compounds, The 5th Se...  Apartment   \n",
      "4                 Granville, New Capital City, Cairo      Villa   \n",
      "\n",
      "                   size bedrooms bathrooms available_from payment_method  \\\n",
      "0     732 sqft / 68 sqm  1+ Maid         1    31 Aug 2025           Cash   \n",
      "1  2,368 sqft / 220 sqm        4         4     2 Sep 2025           Cash   \n",
      "2  1,270 sqft / 118 sqm        2         2    19 Aug 2025           Cash   \n",
      "3  1,787 sqft / 166 sqm        3         2    26 Aug 2025   Installments   \n",
      "4  4,306 sqft / 400 sqm        7         7     2 Sep 2025           Cash   \n",
      "\n",
      "    down_payment  \n",
      "0  1,200,000 EGP  \n",
      "1  2,100,000 EGP  \n",
      "2  1,513,000 EGP  \n",
      "3  1,260,000 EGP  \n",
      "4  2,262,500 EGP  \n"
     ]
    }
   ],
   "source": [
    "print(df.head())"
   ]
  },
  {
   "cell_type": "markdown",
   "id": "81b5b8e8",
   "metadata": {},
   "source": [
    "### Calculate % of Data Missing"
   ]
  },
  {
   "cell_type": "code",
   "execution_count": null,
   "id": "00e3e3eb-0ee5-496e-95b8-3eaf6f4f4e00",
   "metadata": {},
   "outputs": [
    {
     "name": "stdout",
     "output_type": "stream",
     "text": [
      "url: 0.00%\n",
      "price: 2.71%\n",
      "description: 0.39%\n",
      "location: 0.46%\n",
      "type: 0.39%\n",
      "size: 0.39%\n",
      "bedrooms: 0.72%\n",
      "bathrooms: 0.70%\n",
      "available_from: 3.33%\n",
      "payment_method: 2.72%\n",
      "down_payment: 72.67%\n"
     ]
    }
   ],
   "source": [
    "columns = df.columns.to_list()\n",
    "\n",
    "missing_percentage = []\n",
    "for col in columns:\n",
    "    missing_percentage.append(1 - (df[col].count()/len(df)))\n",
    "\n",
    "for percent, col in enumerate(columns):\n",
    "    print(f'{col}: {missing_percentage[percent]:.2%}')"
   ]
  },
  {
   "cell_type": "markdown",
   "id": "161d3124",
   "metadata": {},
   "source": [
    "### Get the types of properties"
   ]
  },
  {
   "cell_type": "code",
   "execution_count": null,
   "id": "46e6b9e4-68e0-46fb-8f8d-90449eb14298",
   "metadata": {},
   "outputs": [
    {
     "name": "stdout",
     "output_type": "stream",
     "text": [
      "['Chalet' 'Villa' 'Apartment' 'Penthouse' 'Twin House' 'Duplex' 'iVilla'\n",
      " 'Townhouse' 'Hotel Apartment' 'Cabin' 'Bulk Sale Unit' 'Palace' 'Land'\n",
      " 'Whole Building' 'Full Floor' 'Roof' nan 'Bungalow']\n"
     ]
    }
   ],
   "source": [
    "types = df['type'].unique()\n",
    "print(types)"
   ]
  },
  {
   "cell_type": "code",
   "execution_count": 36,
   "id": "abf60c5b-8d36-4a41-b848-67c95450bfe8",
   "metadata": {},
   "outputs": [
    {
     "name": "stdout",
     "output_type": "stream",
     "text": [
      "url               19924\n",
      "price             19385\n",
      "description       19846\n",
      "location          19833\n",
      "type              19847\n",
      "size              19847\n",
      "bedrooms          19780\n",
      "bathrooms         19784\n",
      "available_from    19261\n",
      "payment_method    19383\n",
      "down_payment       5445\n",
      "dtype: int64\n"
     ]
    }
   ],
   "source": [
    "print(df.count())"
   ]
  },
  {
   "cell_type": "code",
   "execution_count": 74,
   "id": "93109128",
   "metadata": {},
   "outputs": [
    {
     "name": "stdout",
     "output_type": "stream",
     "text": [
      "<class 'pandas.core.frame.DataFrame'>\n",
      "RangeIndex: 19924 entries, 0 to 19923\n",
      "Data columns (total 6 columns):\n",
      " #   Column     Non-Null Count  Dtype \n",
      "---  ------     --------------  ----- \n",
      " 0   price      19385 non-null  object\n",
      " 1   location   19833 non-null  object\n",
      " 2   type       19847 non-null  object\n",
      " 3   size       19847 non-null  object\n",
      " 4   bedrooms   19780 non-null  object\n",
      " 5   bathrooms  19784 non-null  object\n",
      "dtypes: object(6)\n",
      "memory usage: 934.1+ KB\n",
      "None\n"
     ]
    }
   ],
   "source": [
    "# Create dataframe with only desired features and target varaible\n",
    "features = ['price', 'location', 'type', 'size', 'bedrooms', 'bathrooms']\n",
    "\n",
    "df_model = df[features]\n",
    "print(df_model.info())"
   ]
  },
  {
   "cell_type": "code",
   "execution_count": 75,
   "id": "8b481813",
   "metadata": {},
   "outputs": [],
   "source": [
    "# Remove entries without a price\n",
    "df_model = df_model.dropna(subset=['price'], axis=0)"
   ]
  },
  {
   "cell_type": "code",
   "execution_count": 76,
   "id": "217cf12f",
   "metadata": {},
   "outputs": [
    {
     "name": "stdout",
     "output_type": "stream",
     "text": [
      "price        19385\n",
      "location     19385\n",
      "type         19385\n",
      "size         19385\n",
      "bedrooms     19322\n",
      "bathrooms    19326\n",
      "dtype: int64\n"
     ]
    }
   ],
   "source": [
    "print(df_model.count())"
   ]
  },
  {
   "cell_type": "markdown",
   "id": "07ffee88",
   "metadata": {},
   "source": [
    "### Remove entries without bedrooms or bathrooms values"
   ]
  },
  {
   "cell_type": "code",
   "execution_count": 77,
   "id": "2ab0f775",
   "metadata": {},
   "outputs": [],
   "source": [
    "df_model = df_model.dropna(subset=['bedrooms', 'bathrooms'], axis=0)"
   ]
  },
  {
   "cell_type": "code",
   "execution_count": 78,
   "id": "c388b291",
   "metadata": {},
   "outputs": [
    {
     "name": "stdout",
     "output_type": "stream",
     "text": [
      "price        19322\n",
      "location     19322\n",
      "type         19322\n",
      "size         19322\n",
      "bedrooms     19322\n",
      "bathrooms    19322\n",
      "dtype: int64\n"
     ]
    }
   ],
   "source": [
    "print(df_model.count())"
   ]
  },
  {
   "cell_type": "markdown",
   "id": "afd4311c",
   "metadata": {},
   "source": [
    "### Boxplots to test for outliers (numeric features and price)"
   ]
  },
  {
   "cell_type": "code",
   "execution_count": 79,
   "id": "a48c21fb",
   "metadata": {},
   "outputs": [],
   "source": [
    "import seaborn as sns\n",
    "import matplotlib.pyplot as plt"
   ]
  },
  {
   "cell_type": "markdown",
   "id": "a5a2fa83",
   "metadata": {},
   "source": [
    "#### Create new column converting EGP to USD"
   ]
  },
  {
   "cell_type": "code",
   "execution_count": 80,
   "id": "5e346831",
   "metadata": {},
   "outputs": [
    {
     "name": "stdout",
     "output_type": "stream",
     "text": [
      "        price                                           location       type  \\\n",
      "0   8000000.0       Swan Lake Gouna, Al Gouna, Hurghada, Red Sea     Chalet   \n",
      "1  25000000.0   Karmell, New Zayed City, Sheikh Zayed City, Giza      Villa   \n",
      "2  15135000.0              Azha North, Ras Al Hekma, North Coast     Chalet   \n",
      "3  12652000.0  Taj City, 5th Settlement Compounds, The 5th Se...  Apartment   \n",
      "4  45250000.0                 Granville, New Capital City, Cairo      Villa   \n",
      "\n",
      "                   size bedrooms bathrooms  \n",
      "0     732 sqft / 68 sqm  1+ Maid         1  \n",
      "1  2,368 sqft / 220 sqm        4         4  \n",
      "2  1,270 sqft / 118 sqm        2         2  \n",
      "3  1,787 sqft / 166 sqm        3         2  \n",
      "4  4,306 sqft / 400 sqm        7         7  \n"
     ]
    }
   ],
   "source": [
    "# Removing commas from 'price'\n",
    "df_model['price'] = df_model['price'].str.replace(',', '').astype(float)\n",
    "print(df_model.head())"
   ]
  },
  {
   "cell_type": "code",
   "execution_count": 81,
   "id": "cd681901",
   "metadata": {},
   "outputs": [
    {
     "name": "stdout",
     "output_type": "stream",
     "text": [
      "        price                                           location       type  \\\n",
      "0   8000000.0       Swan Lake Gouna, Al Gouna, Hurghada, Red Sea     Chalet   \n",
      "1  25000000.0   Karmell, New Zayed City, Sheikh Zayed City, Giza      Villa   \n",
      "2  15135000.0              Azha North, Ras Al Hekma, North Coast     Chalet   \n",
      "3  12652000.0  Taj City, 5th Settlement Compounds, The 5th Se...  Apartment   \n",
      "4  45250000.0                 Granville, New Capital City, Cairo      Villa   \n",
      "\n",
      "                   size bedrooms bathrooms    price_usd  \n",
      "0     732 sqft / 68 sqm  1+ Maid         1  1681376.000  \n",
      "1  2,368 sqft / 220 sqm        4         4  5254300.000  \n",
      "2  1,270 sqft / 118 sqm        2         2  3180953.220  \n",
      "3  1,787 sqft / 166 sqm        3         2  2659096.144  \n",
      "4  4,306 sqft / 400 sqm        7         7  9510283.000  \n"
     ]
    }
   ],
   "source": [
    "# Renaming 'price' to 'price_egp'\n",
    "# Adding 'price_usd'\n",
    "\n",
    "df_model['price_usd'] = df_model['price'] * 0.210172\n",
    "print(df_model.head())"
   ]
  },
  {
   "cell_type": "markdown",
   "id": "916325c7",
   "metadata": {},
   "source": [
    "#### Plotting numeric features"
   ]
  },
  {
   "cell_type": "code",
   "execution_count": 82,
   "id": "16e7645d",
   "metadata": {},
   "outputs": [
    {
     "name": "stdout",
     "output_type": "stream",
     "text": [
      "Uniqe bathrooms col:  ['1' '4' '2' '7' '5' '3' '6' '7+' 'none' '4.0' '2.0' '7.0' '3.0' '1.0'\n",
      " '5.0' '6.0']\n"
     ]
    }
   ],
   "source": [
    "# Ensuring numeric columns are numeric\n",
    "print('Uniqe bathrooms col: ', df_model['bathrooms'].unique())\n",
    "df_model['bathrooms'] = df_model['bathrooms'].replace('7+', 7)"
   ]
  },
  {
   "cell_type": "code",
   "execution_count": 89,
   "id": "e6b9cfb0",
   "metadata": {},
   "outputs": [
    {
     "ename": "ValueError",
     "evalue": "invalid literal for int() with base 10: '4.0'",
     "output_type": "error",
     "traceback": [
      "\u001b[31m---------------------------------------------------------------------------\u001b[39m",
      "\u001b[31mValueError\u001b[39m                                Traceback (most recent call last)",
      "\u001b[36mCell\u001b[39m\u001b[36m \u001b[39m\u001b[32mIn[89]\u001b[39m\u001b[32m, line 2\u001b[39m\n\u001b[32m      1\u001b[39m df_model = df_model[df_model[\u001b[33m'\u001b[39m\u001b[33mbathrooms\u001b[39m\u001b[33m'\u001b[39m] != \u001b[33m'\u001b[39m\u001b[33mnone\u001b[39m\u001b[33m'\u001b[39m]\n\u001b[32m----> \u001b[39m\u001b[32m2\u001b[39m df_model[\u001b[33m'\u001b[39m\u001b[33mbathrooms\u001b[39m\u001b[33m'\u001b[39m] = \u001b[43mdf_model\u001b[49m\u001b[43m[\u001b[49m\u001b[33;43m'\u001b[39;49m\u001b[33;43mbathrooms\u001b[39;49m\u001b[33;43m'\u001b[39;49m\u001b[43m]\u001b[49m\u001b[43m.\u001b[49m\u001b[43mapply\u001b[49m\u001b[43m(\u001b[49m\u001b[43mnp\u001b[49m\u001b[43m.\u001b[49m\u001b[43mint64\u001b[49m\u001b[43m)\u001b[49m\n\u001b[32m      3\u001b[39m \u001b[38;5;28mprint\u001b[39m(\u001b[33m'\u001b[39m\u001b[33mUniqe bathrooms col: \u001b[39m\u001b[33m'\u001b[39m, df_model[\u001b[33m'\u001b[39m\u001b[33mbathrooms\u001b[39m\u001b[33m'\u001b[39m].unique())\n",
      "\u001b[36mFile \u001b[39m\u001b[32mc:\\Users\\bryan\\AppData\\Local\\Programs\\Python\\Python313\\Lib\\site-packages\\pandas\\core\\series.py:4935\u001b[39m, in \u001b[36mSeries.apply\u001b[39m\u001b[34m(self, func, convert_dtype, args, by_row, **kwargs)\u001b[39m\n\u001b[32m   4800\u001b[39m \u001b[38;5;28;01mdef\u001b[39;00m\u001b[38;5;250m \u001b[39m\u001b[34mapply\u001b[39m(\n\u001b[32m   4801\u001b[39m     \u001b[38;5;28mself\u001b[39m,\n\u001b[32m   4802\u001b[39m     func: AggFuncType,\n\u001b[32m   (...)\u001b[39m\u001b[32m   4807\u001b[39m     **kwargs,\n\u001b[32m   4808\u001b[39m ) -> DataFrame | Series:\n\u001b[32m   4809\u001b[39m \u001b[38;5;250m    \u001b[39m\u001b[33;03m\"\"\"\u001b[39;00m\n\u001b[32m   4810\u001b[39m \u001b[33;03m    Invoke function on values of Series.\u001b[39;00m\n\u001b[32m   4811\u001b[39m \n\u001b[32m   (...)\u001b[39m\u001b[32m   4926\u001b[39m \u001b[33;03m    dtype: float64\u001b[39;00m\n\u001b[32m   4927\u001b[39m \u001b[33;03m    \"\"\"\u001b[39;00m\n\u001b[32m   4928\u001b[39m     \u001b[38;5;28;01mreturn\u001b[39;00m \u001b[43mSeriesApply\u001b[49m\u001b[43m(\u001b[49m\n\u001b[32m   4929\u001b[39m \u001b[43m        \u001b[49m\u001b[38;5;28;43mself\u001b[39;49m\u001b[43m,\u001b[49m\n\u001b[32m   4930\u001b[39m \u001b[43m        \u001b[49m\u001b[43mfunc\u001b[49m\u001b[43m,\u001b[49m\n\u001b[32m   4931\u001b[39m \u001b[43m        \u001b[49m\u001b[43mconvert_dtype\u001b[49m\u001b[43m=\u001b[49m\u001b[43mconvert_dtype\u001b[49m\u001b[43m,\u001b[49m\n\u001b[32m   4932\u001b[39m \u001b[43m        \u001b[49m\u001b[43mby_row\u001b[49m\u001b[43m=\u001b[49m\u001b[43mby_row\u001b[49m\u001b[43m,\u001b[49m\n\u001b[32m   4933\u001b[39m \u001b[43m        \u001b[49m\u001b[43margs\u001b[49m\u001b[43m=\u001b[49m\u001b[43margs\u001b[49m\u001b[43m,\u001b[49m\n\u001b[32m   4934\u001b[39m \u001b[43m        \u001b[49m\u001b[43mkwargs\u001b[49m\u001b[43m=\u001b[49m\u001b[43mkwargs\u001b[49m\u001b[43m,\u001b[49m\n\u001b[32m-> \u001b[39m\u001b[32m4935\u001b[39m \u001b[43m    \u001b[49m\u001b[43m)\u001b[49m\u001b[43m.\u001b[49m\u001b[43mapply\u001b[49m\u001b[43m(\u001b[49m\u001b[43m)\u001b[49m\n",
      "\u001b[36mFile \u001b[39m\u001b[32mc:\\Users\\bryan\\AppData\\Local\\Programs\\Python\\Python313\\Lib\\site-packages\\pandas\\core\\apply.py:1422\u001b[39m, in \u001b[36mSeriesApply.apply\u001b[39m\u001b[34m(self)\u001b[39m\n\u001b[32m   1419\u001b[39m     \u001b[38;5;28;01mreturn\u001b[39;00m \u001b[38;5;28mself\u001b[39m.apply_compat()\n\u001b[32m   1421\u001b[39m \u001b[38;5;66;03m# self.func is Callable\u001b[39;00m\n\u001b[32m-> \u001b[39m\u001b[32m1422\u001b[39m \u001b[38;5;28;01mreturn\u001b[39;00m \u001b[38;5;28;43mself\u001b[39;49m\u001b[43m.\u001b[49m\u001b[43mapply_standard\u001b[49m\u001b[43m(\u001b[49m\u001b[43m)\u001b[49m\n",
      "\u001b[36mFile \u001b[39m\u001b[32mc:\\Users\\bryan\\AppData\\Local\\Programs\\Python\\Python313\\Lib\\site-packages\\pandas\\core\\apply.py:1502\u001b[39m, in \u001b[36mSeriesApply.apply_standard\u001b[39m\u001b[34m(self)\u001b[39m\n\u001b[32m   1496\u001b[39m \u001b[38;5;66;03m# row-wise access\u001b[39;00m\n\u001b[32m   1497\u001b[39m \u001b[38;5;66;03m# apply doesn't have a `na_action` keyword and for backward compat reasons\u001b[39;00m\n\u001b[32m   1498\u001b[39m \u001b[38;5;66;03m# we need to give `na_action=\"ignore\"` for categorical data.\u001b[39;00m\n\u001b[32m   1499\u001b[39m \u001b[38;5;66;03m# TODO: remove the `na_action=\"ignore\"` when that default has been changed in\u001b[39;00m\n\u001b[32m   1500\u001b[39m \u001b[38;5;66;03m#  Categorical (GH51645).\u001b[39;00m\n\u001b[32m   1501\u001b[39m action = \u001b[33m\"\u001b[39m\u001b[33mignore\u001b[39m\u001b[33m\"\u001b[39m \u001b[38;5;28;01mif\u001b[39;00m \u001b[38;5;28misinstance\u001b[39m(obj.dtype, CategoricalDtype) \u001b[38;5;28;01melse\u001b[39;00m \u001b[38;5;28;01mNone\u001b[39;00m\n\u001b[32m-> \u001b[39m\u001b[32m1502\u001b[39m mapped = \u001b[43mobj\u001b[49m\u001b[43m.\u001b[49m\u001b[43m_map_values\u001b[49m\u001b[43m(\u001b[49m\n\u001b[32m   1503\u001b[39m \u001b[43m    \u001b[49m\u001b[43mmapper\u001b[49m\u001b[43m=\u001b[49m\u001b[43mcurried\u001b[49m\u001b[43m,\u001b[49m\u001b[43m \u001b[49m\u001b[43mna_action\u001b[49m\u001b[43m=\u001b[49m\u001b[43maction\u001b[49m\u001b[43m,\u001b[49m\u001b[43m \u001b[49m\u001b[43mconvert\u001b[49m\u001b[43m=\u001b[49m\u001b[38;5;28;43mself\u001b[39;49m\u001b[43m.\u001b[49m\u001b[43mconvert_dtype\u001b[49m\n\u001b[32m   1504\u001b[39m \u001b[43m\u001b[49m\u001b[43m)\u001b[49m\n\u001b[32m   1506\u001b[39m \u001b[38;5;28;01mif\u001b[39;00m \u001b[38;5;28mlen\u001b[39m(mapped) \u001b[38;5;129;01mand\u001b[39;00m \u001b[38;5;28misinstance\u001b[39m(mapped[\u001b[32m0\u001b[39m], ABCSeries):\n\u001b[32m   1507\u001b[39m     \u001b[38;5;66;03m# GH#43986 Need to do list(mapped) in order to get treated as nested\u001b[39;00m\n\u001b[32m   1508\u001b[39m     \u001b[38;5;66;03m#  See also GH#25959 regarding EA support\u001b[39;00m\n\u001b[32m   1509\u001b[39m     \u001b[38;5;28;01mreturn\u001b[39;00m obj._constructor_expanddim(\u001b[38;5;28mlist\u001b[39m(mapped), index=obj.index)\n",
      "\u001b[36mFile \u001b[39m\u001b[32mc:\\Users\\bryan\\AppData\\Local\\Programs\\Python\\Python313\\Lib\\site-packages\\pandas\\core\\base.py:925\u001b[39m, in \u001b[36mIndexOpsMixin._map_values\u001b[39m\u001b[34m(self, mapper, na_action, convert)\u001b[39m\n\u001b[32m    922\u001b[39m \u001b[38;5;28;01mif\u001b[39;00m \u001b[38;5;28misinstance\u001b[39m(arr, ExtensionArray):\n\u001b[32m    923\u001b[39m     \u001b[38;5;28;01mreturn\u001b[39;00m arr.map(mapper, na_action=na_action)\n\u001b[32m--> \u001b[39m\u001b[32m925\u001b[39m \u001b[38;5;28;01mreturn\u001b[39;00m \u001b[43malgorithms\u001b[49m\u001b[43m.\u001b[49m\u001b[43mmap_array\u001b[49m\u001b[43m(\u001b[49m\u001b[43marr\u001b[49m\u001b[43m,\u001b[49m\u001b[43m \u001b[49m\u001b[43mmapper\u001b[49m\u001b[43m,\u001b[49m\u001b[43m \u001b[49m\u001b[43mna_action\u001b[49m\u001b[43m=\u001b[49m\u001b[43mna_action\u001b[49m\u001b[43m,\u001b[49m\u001b[43m \u001b[49m\u001b[43mconvert\u001b[49m\u001b[43m=\u001b[49m\u001b[43mconvert\u001b[49m\u001b[43m)\u001b[49m\n",
      "\u001b[36mFile \u001b[39m\u001b[32mc:\\Users\\bryan\\AppData\\Local\\Programs\\Python\\Python313\\Lib\\site-packages\\pandas\\core\\algorithms.py:1743\u001b[39m, in \u001b[36mmap_array\u001b[39m\u001b[34m(arr, mapper, na_action, convert)\u001b[39m\n\u001b[32m   1741\u001b[39m values = arr.astype(\u001b[38;5;28mobject\u001b[39m, copy=\u001b[38;5;28;01mFalse\u001b[39;00m)\n\u001b[32m   1742\u001b[39m \u001b[38;5;28;01mif\u001b[39;00m na_action \u001b[38;5;129;01mis\u001b[39;00m \u001b[38;5;28;01mNone\u001b[39;00m:\n\u001b[32m-> \u001b[39m\u001b[32m1743\u001b[39m     \u001b[38;5;28;01mreturn\u001b[39;00m \u001b[43mlib\u001b[49m\u001b[43m.\u001b[49m\u001b[43mmap_infer\u001b[49m\u001b[43m(\u001b[49m\u001b[43mvalues\u001b[49m\u001b[43m,\u001b[49m\u001b[43m \u001b[49m\u001b[43mmapper\u001b[49m\u001b[43m,\u001b[49m\u001b[43m \u001b[49m\u001b[43mconvert\u001b[49m\u001b[43m=\u001b[49m\u001b[43mconvert\u001b[49m\u001b[43m)\u001b[49m\n\u001b[32m   1744\u001b[39m \u001b[38;5;28;01melse\u001b[39;00m:\n\u001b[32m   1745\u001b[39m     \u001b[38;5;28;01mreturn\u001b[39;00m lib.map_infer_mask(\n\u001b[32m   1746\u001b[39m         values, mapper, mask=isna(values).view(np.uint8), convert=convert\n\u001b[32m   1747\u001b[39m     )\n",
      "\u001b[36mFile \u001b[39m\u001b[32mpandas/_libs/lib.pyx:2999\u001b[39m, in \u001b[36mpandas._libs.lib.map_infer\u001b[39m\u001b[34m()\u001b[39m\n",
      "\u001b[31mValueError\u001b[39m: invalid literal for int() with base 10: '4.0'"
     ]
    }
   ],
   "source": [
    "df_model = df_model[df_model['bathrooms'] != 'none']\n",
    "df_model['bathrooms'] = df_model['bathrooms'].apply(np.int64)\n",
    "print('Uniqe bathrooms col: ', df_model['bathrooms'].unique())"
   ]
  },
  {
   "cell_type": "code",
   "execution_count": 85,
   "id": "79e551ee",
   "metadata": {},
   "outputs": [
    {
     "name": "stdout",
     "output_type": "stream",
     "text": [
      "<class 'pandas.core.frame.DataFrame'>\n",
      "Index: 19317 entries, 0 to 19923\n",
      "Data columns (total 7 columns):\n",
      " #   Column     Non-Null Count  Dtype  \n",
      "---  ------     --------------  -----  \n",
      " 0   price      19317 non-null  float64\n",
      " 1   location   19317 non-null  object \n",
      " 2   type       19317 non-null  object \n",
      " 3   size       19317 non-null  object \n",
      " 4   bedrooms   19317 non-null  object \n",
      " 5   bathrooms  19317 non-null  object \n",
      " 6   price_usd  19317 non-null  float64\n",
      "dtypes: float64(2), object(5)\n",
      "memory usage: 1.2+ MB\n",
      "None\n"
     ]
    }
   ],
   "source": [
    "print(df_model.info())"
   ]
  },
  {
   "cell_type": "code",
   "execution_count": 64,
   "id": "53292900",
   "metadata": {},
   "outputs": [
    {
     "data": {
      "text/plain": [
       "<Axes: >"
      ]
     },
     "execution_count": 64,
     "metadata": {},
     "output_type": "execute_result"
    },
    {
     "data": {
      "image/png": "[encoded data removed]",
      "text/plain": [
       "<Figure size 640x480 with 1 Axes>"
      ]
     },
     "metadata": {},
     "output_type": "display_data"
    }
   ],
   "source": [
    "sns.boxplot(df_model)"
   ]
  },
  {
   "cell_type": "code",
   "execution_count": null,
   "id": "ccf23288",
   "metadata": {},
   "outputs": [],
   "source": []
  }
 ],
 "metadata": {
  "kernelspec": {
   "display_name": "Python 3",
   "language": "python",
   "name": "python3"
  },
  "language_info": {
   "codemirror_mode": {
    "name": "ipython",
    "version": 3
   },
   "file_extension": ".py",
   "mimetype": "text/x-python",
   "name": "python",
   "nbconvert_exporter": "python",
   "pygments_lexer": "ipython3",
   "version": "3.13.5"
  }
 },
 "nbformat": 4,
 "nbformat_minor": 5
}
