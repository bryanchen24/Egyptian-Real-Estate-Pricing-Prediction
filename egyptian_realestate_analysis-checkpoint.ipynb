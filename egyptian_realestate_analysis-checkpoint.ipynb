{
 "cells": [
  {
   "cell_type": "code",
   "execution_count": 14,
   "id": "810f5b26-9e11-4ac5-b5ae-94d2e15bb872",
   "metadata": {},
   "outputs": [],
   "source": [
    "import os\n",
    "import pandas as pd\n",
    "import numpy as np\n"
   ]
  },
  {
   "cell_type": "code",
   "execution_count": 22,
   "id": "596542ee-af6d-4963-872c-2088dbae7727",
   "metadata": {},
   "outputs": [],
   "source": [
    "# pd.set_option('display.max_columns', None)\n",
    "df = pd.read_csv('egypt_real_estate_listings.csv')"
   ]
  },
  {
   "cell_type": "code",
   "execution_count": 24,
   "id": "2239bda4-4b81-4e8a-9c53-7fd04b19ab6f",
   "metadata": {},
   "outputs": [
    {
     "name": "stdout",
     "output_type": "stream",
     "text": [
      "                                                 url       price  \\\n",
      "0  https://www.propertyfinder.eg/en/plp/buy/chale...   8,000,000   \n",
      "1  https://www.propertyfinder.eg/en/plp/buy/villa...  25,000,000   \n",
      "2  https://www.propertyfinder.eg/en/plp/buy/chale...  15,135,000   \n",
      "3  https://www.propertyfinder.eg/en/plp/buy/apart...  12,652,000   \n",
      "4  https://www.propertyfinder.eg/en/plp/buy/villa...  45,250,000   \n",
      "\n",
      "                                         description  \\\n",
      "0  OWN A CHALET IN EL GOUNA WITH A PRIME LOCATION...   \n",
      "1  For sale, a villa with immediate delivery in C...   \n",
      "2  With a down payment of EGP 1,513,000, a fully ...   \n",
      "3  Own an apartment in New Cairo with a minimal d...   \n",
      "4  Project: Granville\\nLocation: Fifth Settlement...   \n",
      "\n",
      "                                            location       type  \\\n",
      "0       Swan Lake Gouna, Al Gouna, Hurghada, Red Sea     Chalet   \n",
      "1   Karmell, New Zayed City, Sheikh Zayed City, Giza      Villa   \n",
      "2              Azha North, Ras Al Hekma, North Coast     Chalet   \n",
      "3  Taj City, 5th Settlement Compounds, The 5th Se...  Apartment   \n",
      "4                 Granville, New Capital City, Cairo      Villa   \n",
      "\n",
      "                   size bedrooms bathrooms available_from payment_method  \\\n",
      "0     732 sqft / 68 sqm  1+ Maid         1    31 Aug 2025           Cash   \n",
      "1  2,368 sqft / 220 sqm        4         4     2 Sep 2025           Cash   \n",
      "2  1,270 sqft / 118 sqm        2         2    19 Aug 2025           Cash   \n",
      "3  1,787 sqft / 166 sqm        3         2    26 Aug 2025   Installments   \n",
      "4  4,306 sqft / 400 sqm        7         7     2 Sep 2025           Cash   \n",
      "\n",
      "    down_payment  \n",
      "0  1,200,000 EGP  \n",
      "1  2,100,000 EGP  \n",
      "2  1,513,000 EGP  \n",
      "3  1,260,000 EGP  \n",
      "4  2,262,500 EGP  \n",
      "<class 'pandas.core.frame.DataFrame'>\n",
      "RangeIndex: 19924 entries, 0 to 19923\n",
      "Data columns (total 11 columns):\n",
      " #   Column          Non-Null Count  Dtype \n",
      "---  ------          --------------  ----- \n",
      " 0   url             19924 non-null  object\n",
      " 1   price           19385 non-null  object\n",
      " 2   description     19846 non-null  object\n",
      " 3   location        19833 non-null  object\n",
      " 4   type            19847 non-null  object\n",
      " 5   size            19847 non-null  object\n",
      " 6   bedrooms        19780 non-null  object\n",
      " 7   bathrooms       19784 non-null  object\n",
      " 8   available_from  19261 non-null  object\n",
      " 9   payment_method  19383 non-null  object\n",
      " 10  down_payment    5445 non-null   object\n",
      "dtypes: object(11)\n",
      "memory usage: 1.7+ MB\n",
      "None\n"
     ]
    }
   ],
   "source": [
    "print(df.head())\n",
    "print(df.info())"
   ]
  },
  {
   "cell_type": "code",
   "execution_count": 36,
   "id": "00e3e3eb-0ee5-496e-95b8-3eaf6f4f4e00",
   "metadata": {},
   "outputs": [
    {
     "name": "stdout",
     "output_type": "stream",
     "text": [
      "url: 0.00%\n",
      "price: 2.71%\n",
      "description: 0.39%\n",
      "location: 0.46%\n",
      "type: 0.39%\n",
      "size: 0.39%\n",
      "bedrooms: 0.72%\n",
      "bathrooms: 0.70%\n",
      "available_from: 3.33%\n",
      "payment_method: 2.72%\n",
      "down_payment: 72.67%\n"
     ]
    }
   ],
   "source": [
    "# Calculate % of Data Missing\n",
    "columns = df.columns.to_list()\n",
    "\n",
    "missing_percentage = []\n",
    "for col in columns:\n",
    "    missing_percentage.append(1 - (df[col].count()/len(df)))\n",
    "\n",
    "for percent, col in enumerate(columns):\n",
    "    print(f'{col}: {missing_percentage[percent]:.2%}')"
   ]
  },
  {
   "cell_type": "code",
   "execution_count": 38,
   "id": "46e6b9e4-68e0-46fb-8f8d-90449eb14298",
   "metadata": {},
   "outputs": [
    {
     "name": "stdout",
     "output_type": "stream",
     "text": [
      "['Chalet' 'Villa' 'Apartment' 'Penthouse' 'Twin House' 'Duplex' 'iVilla'\n",
      " 'Townhouse' 'Hotel Apartment' 'Cabin' 'Bulk Sale Unit' 'Palace' 'Land'\n",
      " 'Whole Building' 'Full Floor' 'Roof' nan 'Bungalow']\n"
     ]
    }
   ],
   "source": [
    "# Get the types of properties\n",
    "types = df['type'].unique()\n",
    "print(types)"
   ]
  },
  {
   "cell_type": "code",
   "execution_count": null,
   "id": "abf60c5b-8d36-4a41-b848-67c95450bfe8",
   "metadata": {},
   "outputs": [],
   "source": []
  }
 ],
 "metadata": {
  "kernelspec": {
   "display_name": "Python 3 (ipykernel)",
   "language": "python",
   "name": "python3"
  },
  "language_info": {
   "codemirror_mode": {
    "name": "ipython",
    "version": 3
   },
   "file_extension": ".py",
   "mimetype": "text/x-python",
   "name": "python",
   "nbconvert_exporter": "python",
   "pygments_lexer": "ipython3",
   "version": "3.12.4"
  }
 },
 "nbformat": 4,
 "nbformat_minor": 5
}
